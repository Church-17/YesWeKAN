{
 "cells": [
  {
   "cell_type": "code",
   "execution_count": 1,
   "metadata": {},
   "outputs": [],
   "source": [
    "import tensorflow as tf\n",
    "import numpy as np\n",
    "import pandas as pd\n",
    "import datasets.preprocess_dataset as ut\n",
    "from scipy.interpolate import BSpline\n",
    "from tfkan import DenseKAN\n"
   ]
  },
  {
   "cell_type": "code",
   "execution_count": 7,
   "metadata": {},
   "outputs": [
    {
     "ename": "ValueError",
     "evalue": "could not convert string to float: '8/29/2012'",
     "output_type": "error",
     "traceback": [
      "\u001b[1;31m---------------------------------------------------------------------------\u001b[0m",
      "\u001b[1;31mValueError\u001b[0m                                Traceback (most recent call last)",
      "Cell \u001b[1;32mIn[7], line 2\u001b[0m\n\u001b[0;32m      1\u001b[0m tmp \u001b[38;5;241m=\u001b[39m pd\u001b[38;5;241m.\u001b[39mread_csv(\u001b[38;5;124m\"\u001b[39m\u001b[38;5;124mdatasets/x_train.csv\u001b[39m\u001b[38;5;124m\"\u001b[39m)\u001b[38;5;241m.\u001b[39mto_numpy()[:, \u001b[38;5;241m1\u001b[39m:]\n\u001b[1;32m----> 2\u001b[0m x_train \u001b[38;5;241m=\u001b[39m tf\u001b[38;5;241m.\u001b[39mconvert_to_tensor(\u001b[43mtmp\u001b[49m\u001b[38;5;241;43m.\u001b[39;49m\u001b[43mastype\u001b[49m\u001b[43m(\u001b[49m\u001b[43mnp\u001b[49m\u001b[38;5;241;43m.\u001b[39;49m\u001b[43mfloat32\u001b[49m\u001b[43m)\u001b[49m)\n\u001b[0;32m      3\u001b[0m y_train \u001b[38;5;241m=\u001b[39m tf\u001b[38;5;241m.\u001b[39mconvert_to_tensor(pd\u001b[38;5;241m.\u001b[39mread_csv(\u001b[38;5;124m\"\u001b[39m\u001b[38;5;124mdatasets/y_train.csv\u001b[39m\u001b[38;5;124m\"\u001b[39m)\u001b[38;5;241m.\u001b[39mto_numpy()[:, \u001b[38;5;241m1\u001b[39m:])\n\u001b[0;32m      4\u001b[0m x_test \u001b[38;5;241m=\u001b[39m tf\u001b[38;5;241m.\u001b[39mconvert_to_tensor(pd\u001b[38;5;241m.\u001b[39mread_csv(\u001b[38;5;124m\"\u001b[39m\u001b[38;5;124mdatasets/x_test.csv\u001b[39m\u001b[38;5;124m\"\u001b[39m)\u001b[38;5;241m.\u001b[39mto_numpy()[:, \u001b[38;5;241m1\u001b[39m:])\n",
      "\u001b[1;31mValueError\u001b[0m: could not convert string to float: '8/29/2012'"
     ]
    }
   ],
   "source": [
    "x_train = tf.convert_to_tensor(pd.read_csv(\"datasets/x_train.csv\").to_numpy()[:, 1:])\n",
    "y_train = tf.convert_to_tensor(pd.read_csv(\"datasets/y_train.csv\").to_numpy()[:, 1:])\n",
    "x_test = tf.convert_to_tensor(pd.read_csv(\"datasets/x_test.csv\").to_numpy()[:, 1:])\n",
    "y_test = tf.convert_to_tensor(pd.read_csv(\"datasets/y_test.csv\").to_numpy()[:, 1:])\n",
    "\n",
    "print(x_train.shape, x_test.shape, y_train.shape, y_test.shape)"
   ]
  },
  {
   "cell_type": "code",
   "execution_count": 3,
   "metadata": {},
   "outputs": [],
   "source": [
    "kan_layers = [4,1]\n",
    "kan_model = ut.build_model(kan_layers, x_train.shape[1], mlp=False)\n",
    "kan_model.summary()\n",
    "\n",
    "mlp_layers = [20,3,1]\n",
    "mlp_model = ut.build_model(mlp_layers, x_train.shape[1], mlp=True)\n",
    "mlp_model.summary()\n",
    "kan_history = kan_model.fit(x_train, y_train, epochs=10, batch_size=128, validation_data=(x_test, y_test), verbose=1)\n"
   ]
  },
  {
   "cell_type": "code",
   "execution_count": null,
   "metadata": {},
   "outputs": [],
   "source": []
  }
 ],
 "metadata": {
  "kernelspec": {
   "display_name": "DL",
   "language": "python",
   "name": "python3"
  },
  "language_info": {
   "codemirror_mode": {
    "name": "ipython",
    "version": 3
   },
   "file_extension": ".py",
   "mimetype": "text/x-python",
   "name": "python",
   "nbconvert_exporter": "python",
   "pygments_lexer": "ipython3",
   "version": "3.12.4"
  }
 },
 "nbformat": 4,
 "nbformat_minor": 2
}
