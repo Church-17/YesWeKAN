{
 "cells": [
  {
   "cell_type": "code",
   "execution_count": 1,
   "metadata": {},
   "outputs": [],
   "source": [
    "import tensorflow as tf\n",
    "import numpy as np\n",
    "import pandas as pd\n",
    "import pyutils as ut\n",
    "from scipy.interpolate import BSpline\n",
    "from tfkan.layers import DenseKAN\n"
   ]
  },
  {
   "cell_type": "code",
   "execution_count": 2,
   "metadata": {},
   "outputs": [
    {
     "name": "stdout",
     "output_type": "stream",
     "text": [
      "(70000, 26) (15000, 26) (70000, 1) (15000, 1)\n"
     ]
    }
   ],
   "source": [
    "x_train = tf.convert_to_tensor(pd.read_csv(\"datasets/x_train.csv\").to_numpy()[:, 1:])\n",
    "y_train = tf.convert_to_tensor(pd.read_csv(\"datasets/y_train.csv\").to_numpy()[:, 1:])\n",
    "x_test = tf.convert_to_tensor(pd.read_csv(\"datasets/x_test.csv\").to_numpy()[:, 1:])\n",
    "y_test = tf.convert_to_tensor(pd.read_csv(\"datasets/y_test.csv\").to_numpy()[:, 1:])\n",
    "\n",
    "print(x_train.shape, x_test.shape, y_train.shape, y_test.shape)"
   ]
  },
  {
   "cell_type": "code",
   "execution_count": 3,
   "metadata": {},
   "outputs": [],
   "source": [
    "kan_layers = [4,1]\n",
    "kan_model = ut.build_model(kan_layers, x_train.shape[1], mlp=False)\n",
    "kan_model.summary()\n",
    "\n",
    "mlp_layers = [20,3,1]\n",
    "mlp_model = ut.build_model(mlp_layers, x_train.shape[1], mlp=True)\n",
    "mlp_model.summary()\n",
    "kan_history = kan_model.fit(x_train, y_train, epochs=10, batch_size=128, validation_data=(x_test, y_test), verbose=1)\n"
   ]
  },
  {
   "cell_type": "code",
   "execution_count": null,
   "metadata": {},
   "outputs": [],
   "source": []
  }
 ],
 "metadata": {
  "kernelspec": {
   "display_name": "DL",
   "language": "python",
   "name": "python3"
  },
  "language_info": {
   "codemirror_mode": {
    "name": "ipython",
    "version": 3
   },
   "file_extension": ".py",
   "mimetype": "text/x-python",
   "name": "python",
   "nbconvert_exporter": "python",
   "pygments_lexer": "ipython3",
   "version": "3.10.13"
  }
 },
 "nbformat": 4,
 "nbformat_minor": 2
}
